{
 "cells": [
  {
   "cell_type": "markdown",
   "metadata": {
    "heading_collapsed": true
   },
   "source": [
    "# Environment Setup\n",
    "\n",
    "* Import all necessary modules and libraries\n",
    "* Create the necessary directories for figures and plots.\n",
    "* Enable the logging module for writing to output file."
   ]
  },
  {
   "cell_type": "code",
   "execution_count": 1,
   "metadata": {
    "hidden": true
   },
   "outputs": [],
   "source": [
    "import os\n",
    "import logging\n",
    "\n",
    "import math\n",
    "import numpy as np\n",
    "from scipy.linalg import lu_factor, lu_solve\n",
    "from scipy.interpolate import CubicSpline\n",
    "from scipy.integrate import quad\n",
    "\n",
    "%matplotlib inline\n",
    "import matplotlib.pyplot as plt"
   ]
  },
  {
   "cell_type": "code",
   "execution_count": 3,
   "metadata": {
    "hidden": true
   },
   "outputs": [],
   "source": [
    "# Initialize logging and create missing directories\n",
    "log_file = \"output.txt\"\n",
    "fig = \"fig/\"\n",
    "\n",
    "if not os.path.exists(fig):\n",
    "    os.makedirs(fig)\n",
    "\n",
    "if not os.path.exists(f\"{fig}wake/\"):\n",
    "    os.makedirs(f\"{fig}wake/\")\n",
    "\n",
    "if not os.path.exists(f\"{fig}velocity/\"):\n",
    "    os.makedirs(f\"{fig}velocity/\")\n",
    "\n",
    "logging.basicConfig(filename=log_file, filemode=\"w\",\n",
    "                    force=True, level=logging.INFO, format=\"%(message)s\")"
   ]
  },
  {
   "cell_type": "markdown",
   "metadata": {
    "heading_collapsed": true,
    "hidden": true
   },
   "source": [
    "## Initialize Simulation Variables\n",
    "\n",
    "Contains all the global variables found in the 2D Simulation Program.\n",
    "\n",
    "* **tau**:\n",
    "    * Phase shift for the time\n",
    "    * Start from TOP (0), Between: Start with down stroke (0 < tau < 1),\n",
    "    * Start from BOTTOM (1), Between: Start with up stroke (1 < tau < 2),\n",
    "    * 0 <= tau < 2\n",
    "\n",
    "* **mplot**:\n",
    "    * Airfoil mesh plot: yes (1), no (0), Compare equal arc and equal abscissa mesh pointts (2)\n",
    "\n",
    "* **vplot**: Airfoil normal velocity plot: yes (1), no (0)\n",
    "\n",
    "* **eps**: Used for Modified Biot-Savart Equation\n",
    "\n",
    "* **wplot**: Wake vortex plot: yes (1), no (0)\n",
    "\n",
    "* **zavoid**: Zavoid: yes (1), no (0)\n",
    "\n",
    "* **mpath**:\n",
    "    * Motion path parameter: \n",
    "        * No tail (0)\n",
    "        * DUTail; 2 periods (1)\n",
    "        * UDTail; 2 periods (2)\n",
    "        * DUDUTail; 4 periods (3)\n",
    "        * UDUDTail; 4 periods (4)\n",
    "\n",
    "* **delta**: Distance between the collocation point and the vortex point on the wing\n",
    "\n",
    "* **ibios**: Vortex core model (Modified Biot-Savart Equation): yes (1), no (0)\n",
    "\n",
    "* **svCont**: Space-Fixed Velocity Plot\n",
    "\n",
    "* **wvCont**: Wing-Fixed Velocity Plot\n",
    "\n",
    "* **ivCont**:\n",
    "    * Use of svCont and ivCont: yes (1), no (0)\n",
    "    * The velocity range varies widely depending on the input parameters\n",
    "    * It is recommended to respecify this when input parameters are changed.\n",
    "\n",
    "* **vpFreq**: Frequency of the velocity plots\n",
    "\n",
    "* **vfplot**: TODO"
   ]
  },
  {
   "cell_type": "code",
   "execution_count": 4,
   "metadata": {
    "hidden": true
   },
   "outputs": [],
   "source": [
    "class g:\n",
    "    tau = 0\n",
    "    mplot = 1\n",
    "    vplot = 1\n",
    "    eps = 0.5e-6\n",
    "    wplot = 1\n",
    "    zavoid = 0\n",
    "    mpath = 0\n",
    "    delta = 0\n",
    "    svCont = 0\n",
    "    wvCont = 0\n",
    "    ivCont = 0\n",
    "    vpFreq = 0\n",
    "    vfplot = 1"
   ]
  },
  {
   "cell_type": "markdown",
   "metadata": {
    "heading_collapsed": true
   },
   "source": [
    "# Functions Used In Preprocessing\n",
    "\n",
    "* `in_data`\n",
    "* `mesh_r`\n",
    "* `matrix_coef`\n",
    "* `c_mesh`, `camber_mesh`"
   ]
  },
  {
   "cell_type": "markdown",
   "metadata": {
    "heading_collapsed": true,
    "hidden": true
   },
   "source": [
    "## Input Data"
   ]
  },
  {
   "cell_type": "code",
   "execution_count": 5,
   "metadata": {
    "hidden": true
   },
   "outputs": [],
   "source": [
    "def nd_data(l_, phiT, phiB, c_, x_, y_, a_, U_, V_, T_):\n",
    "    dT_ = l_ * np.sin(phiT)\n",
    "    dB_ = l_ * np.sin(-phiB)\n",
    "    d_ = dT_ + dB_\n",
    "    e_ = dT_ - dB_\n",
    "    e = e_ / d_\n",
    "    c = c_ / d_\n",
    "    a = a_ / d_\n",
    "    x = x_ / d_\n",
    "    y = y_ / d_\n",
    "    t_ = T_ / 2.0\n",
    "    v_ = d_ / t_\n",
    "    U = U_ / v_\n",
    "    V = V_ / v_\n",
    "\n",
    "    return v_, t_, d_, e, c, x, y, a, U, V\n",
    "\n",
    "\n",
    "def in_data(l_,\n",
    "            phiT_,\n",
    "            phiB_,\n",
    "            c_,\n",
    "            x_,\n",
    "            y_,\n",
    "            a_,\n",
    "            beta_,\n",
    "            f_,\n",
    "            gMax_,\n",
    "            U_,\n",
    "            V_):\n",
    "    T_ = 1.0 / f_\n",
    "\n",
    "    fac = np.pi / 180.0\n",
    "    phiT = fac * phiT_\n",
    "    phiB = fac * phiB_\n",
    "    beta = fac * beta_\n",
    "    gMax = fac * gMax_\n",
    "\n",
    "    v_, t_, d_, e, c, x, y, a, U, V = \\\n",
    "        nd_data(l_, phiT, phiB, c_, x_, y_, a_, U_, V_, T_)\n",
    "\n",
    "    return v_, t_, d_, e, c, x, y, a, beta, gMax, U, V"
   ]
  },
  {
   "cell_type": "markdown",
   "metadata": {
    "heading_collapsed": true,
    "hidden": true
   },
   "source": [
    "## Mesh Radius?"
   ]
  },
  {
   "cell_type": "code",
   "execution_count": 6,
   "metadata": {
    "hidden": true
   },
   "outputs": [],
   "source": [
    "def mesh_r(c, x, y, n, m):\n",
    "    a = 0.5 * c  # half chord length\n",
    "\n",
    "    f = CubicSpline(x, y)\n",
    "    df = f.derivative(nu=1)\n",
    "\n",
    "    s = [0]\n",
    "\n",
    "    for i in range(n - 1):\n",
    "        ds = quad(lambda z: np.sqrt(1 + df(z) ** 2), x[i], x[i+1])\n",
    "        # Get the first value, cross-checked with matlab code for validation.\n",
    "        s.append(s[i] + ds[0])\n",
    "\n",
    "    s = np.array(s)\n",
    "\n",
    "    gcalc = CubicSpline(s, x)\n",
    "    dS = s[n - 1] / (m - 1)\n",
    "\n",
    "    xv = np.zeros((m + 4))\n",
    "    xv[0] = -a\n",
    "    xv[1] = gcalc(dS * 0.25)\n",
    "    xv[2] = gcalc(dS * 0.5)\n",
    "\n",
    "    for i in range(2, m):\n",
    "        xv[i + 1] = gcalc(dS * (i - 1))\n",
    "\n",
    "    xv[m + 1] = gcalc(dS * (m - 1 - 0.5))\n",
    "    xv[m + 2] = gcalc(dS * (m - 1 - 0.25))\n",
    "    xv[m + 3] = a\n",
    "\n",
    "    yv = f(xv)\n",
    "\n",
    "    xc = np.zeros((m + 3))\n",
    "    xc[0] = gcalc(dS * 0.125)\n",
    "    xc[1] = gcalc(dS * 0.375)\n",
    "    xc[2] = gcalc(dS * 0.75)\n",
    "\n",
    "    for i in range(2, m - 1):\n",
    "        xc[i + 1] = gcalc(dS * (i - 0.5))\n",
    "\n",
    "    xc[m] = gcalc(dS * (m - 1 - 0.75))\n",
    "    xc[m + 1] = gcalc(dS * (m - 1 - 0.375))\n",
    "    xc[m + 2] = gcalc(dS * (m - 1 - 0.125))\n",
    "\n",
    "    yc = df(xc)\n",
    "    dfc = df(xc)\n",
    "\n",
    "    mNew = m + 4\n",
    "\n",
    "    return xv, yv, xc, yc, dfc, mNew"
   ]
  },
  {
   "cell_type": "markdown",
   "metadata": {
    "heading_collapsed": true,
    "hidden": true
   },
   "source": [
    "## Matrix Coefficient"
   ]
  },
  {
   "cell_type": "code",
   "execution_count": 7,
   "metadata": {
    "hidden": true
   },
   "outputs": [],
   "source": [
    "def matrix_coef(xv, yv, xc, yc, dfc, m):\n",
    "    denom = np.sqrt(1 + dfc ** 2)\n",
    "    nx = -dfc / denom\n",
    "    ny = 1.0 / denom\n",
    "    nc = nx + 1j * ny\n",
    "\n",
    "    zeta = xc + 1j * yc\n",
    "    zeta0 = xv + 1j * yv\n",
    "\n",
    "    MVN = np.imag((((1.0 / (np.expand_dims(zeta, 0).transpose() - zeta0)))\n",
    "                   * nc.reshape((nc.size, 1))) / (2.0 * np.pi))\n",
    "    MVN = np.append(MVN, np.ones(MVN.shape[1])).reshape((m, m))\n",
    "\n",
    "    return MVN"
   ]
  },
  {
   "cell_type": "markdown",
   "metadata": {
    "heading_collapsed": true,
    "hidden": true
   },
   "source": [
    "## Camber Mesh"
   ]
  },
  {
   "cell_type": "code",
   "execution_count": 8,
   "metadata": {
    "hidden": true
   },
   "outputs": [],
   "source": [
    "def c_mesh(c_, d_):\n",
    "\n",
    "    epsX = 0.15 * c_\n",
    "    epsY = 0.15 * c_\n",
    "    dX = 0.3 * c_\n",
    "    dY = 0.3 * c_\n",
    "    maxX = 1.0 * d_\n",
    "    maxY = 1.0 * d_\n",
    "\n",
    "    # define the renge in the quadrant\n",
    "    rX = np.arange(epsX, maxX, dX)\n",
    "    rY = np.arange(epsY, maxY, dY)\n",
    "\n",
    "    # Total range\n",
    "    Xrange = [-np.flip(rX), rX]\n",
    "    Yrange = [-np.flip(rY), rY]\n",
    "\n",
    "    # Mesh points\n",
    "    xi, eta = np.meshgrid(Xrange, Yrange)\n",
    "    ZETA = xi + 1j * eta\n",
    "    ZETA /= d_\n",
    "\n",
    "    return ZETA\n",
    "\n",
    "\n",
    "def camber_mesh(c_, d_, camber):\n",
    "\n",
    "    dX = 0.2 * c_\n",
    "    dY = 0.2 * c_\n",
    "    maxX = 1.0 * d_\n",
    "    maxY = 1.0 * d_\n",
    "\n",
    "    x1 = np.linspace(-0.5, 0.5, dX)\n",
    "    x2 = np.linspace(0.7, maxX, dX)\n",
    "    x3 = -np.fliplr(x2)\n",
    "    x = np.append(x3, [x1, x2])\n",
    "    nx = x.shape[0]\n",
    "    atmp_ = 0.5\n",
    "    y1 = camber * (atmp_ ** 2)\n",
    "    y2 = 0.0 * x2\n",
    "    y = np.append(y2, [y1, y2])\n",
    "    nyh = np.floor(nx / 2)\n",
    "\n",
    "    for i in range(nyh):\n",
    "        xi[i+nyh, :] = x\n",
    "        eta[i+nyh, :] = y + (i - 0.5) * dY\n",
    "        xi[i, :] = x\n",
    "        eta[i, :] = y - (nyh - i + 0.5) * dY\n",
    "\n",
    "    ZETA = complex(xi, eta)\n",
    "    return ZETA / d_"
   ]
  },
  {
   "cell_type": "markdown",
   "metadata": {
    "heading_collapsed": true
   },
   "source": [
    "# Time March Functions\n",
    "\n",
    "* `airfoil_m`\n",
    "* `wing_global`\n",
    "* `airfoil_v`\n",
    "* `velocity_w2`\n",
    "* `velocity`"
   ]
  },
  {
   "cell_type": "markdown",
   "metadata": {
    "hidden": true
   },
   "source": [
    "## Airfoil M"
   ]
  },
  {
   "cell_type": "markdown",
   "metadata": {
    "heading_collapsed": true,
    "hidden": true
   },
   "source": [
    "### Airfoil M helper functions"
   ]
  },
  {
   "cell_type": "code",
   "execution_count": 21,
   "metadata": {
    "hidden": true
   },
   "outputs": [],
   "source": [
    "class mpath:\n",
    "    def cos_tail_b2(t):\n",
    "        if t <= 2.0:\n",
    "            return np.cos(np.pi * t)\n",
    "        else:\n",
    "            return 1\n",
    "\n",
    "    def cos_tail_g2(t, e):\n",
    "        tB = t % 4\n",
    "        return mpath.cos_tail_b2(tB) + e\n",
    "    \n",
    "    def d_cos_tail_b2(t):\n",
    "        if t <= 2.0:\n",
    "            return -np.pi * np.sin(np.pi * t)\n",
    "        else:\n",
    "            return 0\n",
    "\n",
    "    def d_cos_tail_g2(t):\n",
    "        tB = t % 4\n",
    "        return mpath.d_cos_tail_b2(tB)\n",
    "    \n",
    "    def d_table_s_tail_b2(t, p, rtOff):\n",
    "        e0 = np.exp(-2.0 * p * (t - (0.0 + rtOff)))\n",
    "        e1 = np.exp(-2.0 * p * (t - (1.0 + rtOff)))\n",
    "        e2 = np.exp(-2.0 * p * (t - (2.0 + rtOff)))\n",
    "        e4 = np.exp(-2.0 * p * (t - (4.0 + rtOff)))\n",
    "        f0 = 2.0 * p * e0 / (1.0 + e0) ** 2\n",
    "        f1 = 4.0 * p * e1 / (1.0 + e1) ** 2\n",
    "        f2 = 2.0 * p * e2 / (1.0 + e2) ** 2\n",
    "        f4 = 2.0 * p * e4 / (1.0 + e4) ** 2\n",
    "        return -f0 + f1 - f2 - f4\n",
    "    \n",
    "    def d_table_s_tail_g2(t, p, rtOff):\n",
    "        tB = t % 4\n",
    "        return mpath.d_table_s_tail_b2(tB + g.tau)\n",
    "    \n",
    "    def table_s_tail_b2(t, p, rtOff):\n",
    "        f0 = 1.0 / (1.0 + np.exp(t - (0.0 + rtOff)))\n",
    "        f1 = 1.0 / (1.0 + np.exp(t - (1.0 + rtOff)))\n",
    "        f2 = 1.0 / (1.0 + np.exp(t - (2.0 + rtOff)))\n",
    "        f4 = 1.0 / (1.0 + np.exp(t - (4.0 + rtOff)))\n",
    "        return -f0 + f1 - f2 - f4\n",
    "    \n",
    "    def table_s_tail_g2(t, p, rtOff):\n",
    "        tB = t % 4\n",
    "        return mpath.table_s_tail_b2(tB + g.tau, rtOff)\n",
    "    \n",
    "    def cos_up_tail_b2(t):\n",
    "        if t <= 2.0:\n",
    "            return -np.cos(np.pi * t)\n",
    "        else:\n",
    "            return -1\n",
    "        \n",
    "    def cos_up_tail_g2(t, e):\n",
    "        tB = t % 4\n",
    "        return mpath.cos_up_tail_b2(tB) + e\n",
    "    \n",
    "    def d_cos_up_tail_b2(t):\n",
    "        if t <= 2.0:\n",
    "            return np.pi * np.sin(np.pi * t)\n",
    "        else:\n",
    "            return 0\n",
    "        \n",
    "    def d_cos_up_tail_g2(t):\n",
    "        tB = t % 4\n",
    "        return mpath.d_cos_up_tail_b2(tB)\n",
    "    \n",
    "    def d_table_up_s_tail_b2(t, p, rtOff):\n",
    "        e0 = np.exp(-2.0 * p * (t - (0.0 + rtOff)))\n",
    "        e1 = np.exp(-2.0 * p * (t - (1.0 + rtOff)))\n",
    "        e2 = np.exp(-2.0 * p * (t - (2.0 + rtOff)))\n",
    "        e4 = np.exp(-2.0 * p * (t - (4.0 + rtOff)))\n",
    "        f0 = 2.0 * p * e0 / (1.0 + e0) ** 2\n",
    "        f1 = 4.0 * p * e1 / (1.0 + e1) ** 2\n",
    "        f2 = 2.0 * p * e2 / (1.0 + e2) ** 2\n",
    "        f4 = 2.0 * p * e4 / (1.0 + e4) ** 2\n",
    "        return -(-f0 + f1 - f2 - f4)\n",
    "    \n",
    "    def d_table_up_s_tail_g2(t, p, rtOff):\n",
    "        tB = t % 4\n",
    "        return mpath.d_table_up_s_tail_b2(tB + g.tau, p, rtOff)\n",
    "    \n",
    "    def table_up_s_tail_b2(t, p, rtOff):\n",
    "        f0 = 1.0 / (1.0 + np.exp(-2.0 * p * (t - (0.0 + rtOff))))\n",
    "        f1 = 2.0 / (1.0 + np.exp(-2.0 * p * (t - (1.0 + rtOff))))\n",
    "        f2 = 2.0 / (1.0 + np.exp(-2.0 * p * (t - (2.0 + rtOff))))\n",
    "        f4 = 2.0 / (1.0 + np.exp(-2.0 * p * (t - (4.0 + rtOff))))\n",
    "        return -(-f0 + f1 - f2 - f4)\n",
    "    \n",
    "    def table_up_s_tail_g2(t, p, rtOff):\n",
    "        tB = t % 4\n",
    "        return mpath.table_up_s_tail_b2(tB + g.tau, p, rtOff)\n",
    "    \n",
    "    def cos_up_tail_b(t):\n",
    "        if t <= 4.0:\n",
    "            return -np.cos(np.pi * t)\n",
    "        else:\n",
    "            return -1\n",
    "        \n",
    "    def cos_up_tail_g(t, e):\n",
    "        tB = t % 8\n",
    "        return mpath.cos_up_tail_b(tB) + e\n",
    "    \n",
    "    def d_cos_up_tail_b(t):\n",
    "        if t <= 4.0:\n",
    "            return np.pi * np.sin(np.pi * t)\n",
    "        else:\n",
    "            return 0\n",
    "        \n",
    "    def d_cos_up_tail_g(t):\n",
    "        tB = t % 8\n",
    "        return mpath.d_cos_up_tail_b(tB)\n",
    "    \n",
    "    def d_table_up_s_tail_b(t, p, rtOff):\n",
    "        e0 = np.exp(-2.0 * p * (t - (0.0 + rtOff)))\n",
    "        e1 = np.exp(-2.0 * p * (t - (1.0 + rtOff)))\n",
    "        e2 = np.exp(-2.0 * p * (t - (2.0 + rtOff)))\n",
    "        e3 = np.exp(-2.0 * p * (t - (3.0 + rtOff)))\n",
    "        e4 = np.exp(-2.0 * p * (t - (4.0 + rtOff)))\n",
    "        e8 = np.exp(-2.0 * p * (t - (8.0 + rtOff)))\n",
    "        f0 = 2.0 * p * e0 / (1.0 + e0) ** 2\n",
    "        f1 = 2.0 * p * e1 / (1.0 + e0) ** 2\n",
    "        f2 = 2.0 * p * e2 / (1.0 + e0) ** 2\n",
    "        f3 = 2.0 * p * e3 / (1.0 + e0) ** 2\n",
    "        f4 = 2.0 * p * e4 / (1.0 + e0) ** 2\n",
    "        f8 = 2.0 * p * e8 / (1.0 + e0) ** 2\n",
    "        return f0 - f1 + f2 - f3 + f4 + f8 # TODO\n",
    "    \n",
    "    def d_table_up_s_tail_g(t, p, rtOff):\n",
    "        tB = t % 8\n",
    "        return mpath.d_table_up_s_tail_b(tB + g.tau, p, rtOff)\n",
    "    \n",
    "    def table_up_s_tail_b(t, p, rtOff):\n",
    "        f0 = 1.0 / (1.0 + np.exp(-2.0 * p * (0.0 + rtOff)))\n",
    "        f1 = 1.0 / (1.0 + np.exp(-2.0 * p * (1.0 + rtOff)))\n",
    "        f2 = 1.0 / (1.0 + np.exp(-2.0 * p * (2.0 + rtOff)))\n",
    "        f3 = 1.0 / (1.0 + np.exp(-2.0 * p * (3.0 + rtOff)))\n",
    "        f4 = 1.0 / (1.0 + np.exp(-2.0 * p * (4.0 + rtOff)))\n",
    "        f8 = 1.0 / (1.0 + np.exp(-2.0 * p * (8.0 + rtOff)))\n",
    "        return f0 - f1 + f2 - f3 + f4 + f8\n",
    "    \n",
    "    def table_up_s_tail_g(t, p, rtOff):\n",
    "        tB = t % 8\n",
    "        return mpath.table_up_s_tail_b(tB + g.tau, p, rtOff)\n",
    "    \n",
    "    def cos_tail_b(t):\n",
    "        if t <= 4.0:\n",
    "            return np.cos(np.pi * t)\n",
    "        else:\n",
    "            return 1\n",
    "        \n",
    "    def cos_tail_g(t):\n",
    "        tB = t % 8\n",
    "        return mpath.cos_tail_b(tB)\n",
    "    \n",
    "    def d_cos_tail_b(t):\n",
    "        if t <= 4.0:\n",
    "            return np.pi * np.sin(np.pi * t)\n",
    "        else:\n",
    "            return 0\n",
    "        \n",
    "    def d_cos_tail_g(t):\n",
    "        tB = t % 8\n",
    "        return mpath.d_cos_tail_b(tB)\n",
    "    \n",
    "    def d_table_s_tail_b(t, p, rtOff):\n",
    "        e0 = np.exp(-2.0 * p * (t - (0.0 + rtOff)))\n",
    "        e1 = np.exp(-2.0 * p * (t - (1.0 + rtOff)))\n",
    "        e2 = np.exp(-2.0 * p * (t - (2.0 + rtOff)))\n",
    "        e3 = np.exp(-2.0 * p * (t - (3.0 + rtOff)))\n",
    "        e4 = np.exp(-2.0 * p * (t - (4.0 + rtOff)))\n",
    "        e8 = np.exp(-2.0 * p * (t - (8.0 + rtOff)))\n",
    "        f0 = 2.0 * p * e0 / (1.0 + e0) ** 2\n",
    "        f1 = 2.0 * p * e0 / (1.0 + e0) ** 2\n",
    "        f2 = 2.0 * p * e0 / (1.0 + e0) ** 2\n",
    "        f3 = 2.0 * p * e0 / (1.0 + e0) ** 2\n",
    "        f4 = 2.0 * p * e0 / (1.0 + e0) ** 2\n",
    "        f8 = 2.0 * p * e0 / (1.0 + e0) ** 2\n",
    "        return -f0 + f1 - f2 + f3 - f4 + f8\n",
    "        \n",
    "    def d_table_s_tail_g(t, p, rtOff):\n",
    "        tB = t % 8\n",
    "        return mpath.d_table_s_tail_b(tB + g.tau, p, rtOff)\n",
    "    \n",
    "    def table_s_tail_b(t, p, rtOff):\n",
    "        f0 = 1.0 / (1.0 + np.exp(-2.0 * p * (t - (0.0 + rtOff))))\n",
    "        f1 = 1.0 / (1.0 + np.exp(-2.0 * p * (t - (1.0 + rtOff))))\n",
    "        f2 = 1.0 / (1.0 + np.exp(-2.0 * p * (t - (2.0 + rtOff))))\n",
    "        f3 = 1.0 / (1.0 + np.exp(-2.0 * p * (t - (3.0 + rtOff))))\n",
    "        f4 = 1.0 / (1.0 + np.exp(-2.0 * p * (t - (4.0 + rtOff))))\n",
    "        f8 = 1.0 / (1.0 + np.exp(-2.0 * p * (t - (8.0 + rtOff))))\n",
    "        return -f0 + f1 - f2 + f3 - f4 - f8\n",
    "    \n",
    "    def table_s_tail_g(t, p, rtOff):\n",
    "        tB = t % 8\n",
    "        return mpath.table_s_tail_b(tB + g.tau, p, rtOff)\n",
    "    \n",
    "    def dtable_b(t, p, rtOff):\n",
    "        e0 = np.exp(-2.0 * p * (t - (0.0 + rtOff)))\n",
    "        e1 = np.exp(-2.0 * p * (t - (1.0 + rtOff)))\n",
    "        e2 = np.exp(-2.0 * p * (t - (2.0 + rtOff)))\n",
    "        e3 = np.exp(-2.0 * p * (t - (3.0 + rtOff)))\n",
    "        e4 = np.exp(-2.0 * p * (t - (4.0 + rtOff)))\n",
    "        f0 = 4.0 * p * e0 / (1.0 + e0) ** 2\n",
    "        f1 = 4.0 * p * e1 / (1.0 + e1) ** 2\n",
    "        f2 = 4.0 * p * e2 / (1.0 + e2) ** 2\n",
    "        f3 = 4.0 * p * e3 / (1.0 + e3) ** 2\n",
    "        f4 = 4.0 * p * e4 / (1.0 + e4) ** 2\n",
    "        return -f0 + f1 - f2 + f3 - f4\n",
    "    \n",
    "    def dtable_g(t, p, rtOff):\n",
    "        tB = t % 2\n",
    "        return mpath.dtable_b(tB + g.tau, p, rtOff)\n",
    "    \n",
    "    def table_b(t, p, rtOff):\n",
    "        f0 = 2.0 / (1.0 + np.exp(-2.0 * p * (t - (0.0 + rtOff))))\n",
    "        f1 = 2.0 / (1.0 + np.exp(-2.0 * p * (t - (1.0 + rtOff))))\n",
    "        f2 = 2.0 / (1.0 + np.exp(-2.0 * p * (t - (2.0 + rtOff))))\n",
    "        f3 = 2.0 / (1.0 + np.exp(-2.0 * p * (t - (3.0 + rtOff))))\n",
    "        f4 = 2.0 / (1.0 + np.exp(-2.0 * p * (t - (4.0 + rtOff))))\n",
    "        return 1.0 - f0 + f1 - f2 + f3 - f4\n",
    "    \n",
    "    def table_g(t, p, rtOff):\n",
    "        tB = t % 2\n",
    "        y = mpath.table_b(tB + g.tau, p, rtOff)\n",
    "        return y"
   ]
  },
  {
   "cell_type": "markdown",
   "metadata": {
    "heading_collapsed": true,
    "hidden": true
   },
   "source": [
    "### Airfoil M function"
   ]
  },
  {
   "cell_type": "code",
   "execution_count": 22,
   "metadata": {
    "hidden": true
   },
   "outputs": [],
   "source": [
    "def airfoil_m(t, e, beta, gMax, p, rtOff, U, V):\n",
    "    if (g.mpath == 0):\n",
    "        l = -U * t + 0.5 * (np.cos(np.pi * (t + g.tau)) + e) * np.cos(beta)\n",
    "        h = -V * t + 0.5 * (np.cos(np.pi * (t + g.tau)) + e) * np.sin(beta)\n",
    "        dl = -U - 0.5 * np.pi * np.sin(np.pi * (t + g.tau)) * np.cos(beta)\n",
    "        dh = -V - 0.5 * np.pi * np.sin(np.pi * (t + g.tau)) * np.sin(beta)\n",
    "        gam = mpath.table_g(t, p, rtOff)\n",
    "        gam = gMax * gam\n",
    "        alp = 0.5 * np.pi - beta + gam\n",
    "        dgam = mpath.dtable_g(t, p, rtOff)\n",
    "        dalp = gMax * dgam\n",
    "    elif (g.mpath == 1):\n",
    "        dl = -U + 0.5 * mpath.d_cos_tail_g(t + g.tau) * np.cos(beta)\n",
    "        dh = -V + 0.5 * mpath.d_cos_tail_g2(t + g.tau) * np.sin(beta)\n",
    "        l = -U * t + 0.5 * mpath.cos_tail_g(t + g.tau, e) * np.cos(beta)\n",
    "        h = -V * t + 0.5 * mpath.cos_tail_g2(t + g.tau, e) * np.sin(beta)\n",
    "        gam = mpath.table_s_tail_g2(t, p, rtOff)\n",
    "        gam = gMax * gam\n",
    "        alp = 0.5 * np.pi - beta + gam\n",
    "        dgam = mpath.d_table_s_tail_g2(t, p, rtOff)\n",
    "        dalp = gMax * dgam\n",
    "    elif (g.mpath == 2):\n",
    "        # Translational Motion\n",
    "        dl = -U * 0.5 * mpath.d_cos_up_tail_g2(t + g.tau) * np.cos(beta)\n",
    "        dh = -V + 0.5 * mpath.d_cos_up_tail_g2(t + g.tau) * np.sin(beta)\n",
    "        l = -U * t + 0.5 * mpath.cos_up_tail_g2(t + g.tau, e) * np.cos(beta)\n",
    "        h = -V * t + 0.5 * mpath.cos_up_tail_g2(t + g.tau, e) * np.sin(beta)\n",
    "        # Rotational Motion\n",
    "        gam = mpath.table_up_s_tail_g2(t, p, rtOff)\n",
    "        gam = gMax * gam\n",
    "        alp = 0.5 * np.i - beta + gam\n",
    "        dgam = mpath.d_table_up_s_tail_g2(t, p, rtOff)\n",
    "        dalp = gMax * dgam\n",
    "    elif (g.mpath == 3):\n",
    "        # Translational Motion\n",
    "        dl = -U * 0.5 * mpath.d_cos_tail_g(t + g.tau) * np.cos(beta)\n",
    "        dh = -V + 0.5 * mpath.d_cos_tail_g(t + g.tau) * np.sin(beta)\n",
    "        l = -U * t + 0.5 * mpath.cos_tail_g(t + g.tau, e) * np.cos(beta)\n",
    "        h = -V * t + 0.5 * mpath.cos_tail_g(t + g.tau, e) * np.sin(beta)\n",
    "        # Rotational Motion\n",
    "        gam = mpath.table_s_tail_g(t, p, rtOff)\n",
    "        gam = gMax * gam\n",
    "        alp = 0.5 * np.i - beta + gam\n",
    "        dgam = mpath.d_table_s_tail_g(t, p, rtOff)\n",
    "        dalp = gMax * dgam\n",
    "    elif (g.mpath == 4):\n",
    "        # Translational Motion\n",
    "        dl = -U * 0.5 * mpath.d_cos_up_tail_g(t + g.tau) * np.cos(beta)\n",
    "        dh = -V + 0.5 * mpath.d_cos_up_tail_g(t + g.tau) * np.sin(beta)\n",
    "        l = -U * t + 0.5 * mpath.cos_up_tail_g(t + g.tau, e) * np.cos(beta)\n",
    "        h = -V * t + 0.5 * mpath.cos_up_tail_g(t + g.tau, e) * np.sin(beta)\n",
    "        # Rotational Motion\n",
    "        gam = mpath.table_up_s_tail_g(t, p, rtOff)\n",
    "        gam = gMax * gam\n",
    "        alp = 0.5 * np.i - beta + gam\n",
    "        dgam = mpath.d_table_up_s_tail_g(t, p, rtOff)\n",
    "        dalp = gMax * dgam\n",
    "    return alp, l, h, dalp, dl, dh"
   ]
  },
  {
   "cell_type": "markdown",
   "metadata": {
    "heading_collapsed": true,
    "hidden": true
   },
   "source": [
    "## Wing Global"
   ]
  },
  {
   "cell_type": "code",
   "execution_count": 11,
   "metadata": {
    "hidden": true
   },
   "outputs": [],
   "source": [
    "def wing_global(istep, t, a, alp, l, h, xv, yv, xc, yc, dfc, ZW, U, V):\n",
    "    zt = l + 1j * h\n",
    "    ZWt = ZW\n",
    "\n",
    "    if istep != 1:\n",
    "        ZWt = ZW - zt\n",
    "\n",
    "    zv = xv + 1j * yv\n",
    "    zc = xc + 1j * yc\n",
    "    expmia = np.exp(-1j * alp)\n",
    "    ZVt = (a + zv) * expmia\n",
    "    ZCt = (a + zc) * expmia\n",
    "    ZV = ZVt + zt\n",
    "    ZC = ZCt + zt\n",
    "\n",
    "    # Unit normal vector of the airfoil in the wing-fixed system\n",
    "    denom = np.sqrt(1 + dfc ** 2)\n",
    "    nx = -dfc / denom\n",
    "    ny = 1.0 / denom\n",
    "    nc = nx + 1j * ny\n",
    "    # Unit normal vector of the airfoil in the global system\n",
    "    NC = nc * expmia\n",
    "\n",
    "    return NC, ZV, ZC, ZVt, ZCt, ZWt"
   ]
  },
  {
   "cell_type": "markdown",
   "metadata": {
    "heading_collapsed": true,
    "hidden": true
   },
   "source": [
    "## Airfoil V"
   ]
  },
  {
   "cell_type": "code",
   "execution_count": 12,
   "metadata": {
    "hidden": true
   },
   "outputs": [],
   "source": [
    "def airfoil_v(ZC, ZCt, NC, t, dl, dh, dalp):\n",
    "    V = (dl + 1j * dh) - 1j * dalp * ZCt\n",
    "    VN = np.real(np.conj(V) * NC)\n",
    "\n",
    "    return VN"
   ]
  },
  {
   "cell_type": "markdown",
   "metadata": {
    "heading_collapsed": true,
    "hidden": true
   },
   "source": [
    "## Velocity W2"
   ]
  },
  {
   "cell_type": "code",
   "execution_count": 13,
   "metadata": {
    "hidden": true
   },
   "outputs": [],
   "source": [
    "def velocity_w2(m, ZC, NC, ZF, GAMAw, iGAMAw):\n",
    "    eps = g.eps\n",
    "    ZF_c = ZF[0:iGAMAw]\n",
    "    GAMAw_c = GAMAw[0:iGAMAw]\n",
    "\n",
    "    r_ = np.subtract(np.expand_dims(ZC, 0).transpose(), ZF_c)\n",
    "    r = np.abs(r_)\n",
    "    GF = np.where(r < eps, 0.+0.j, (1.0 / r_))\n",
    "    GF = GF * np.where(r < g.delta, (r / g.delta) ** 2, 1.)\n",
    "\n",
    "    VNW = np.sum(GAMAw_c * np.imag(np.expand_dims(NC, 0).transpose()\n",
    "                                   * GF) / (2.0 * np.pi), 1)\n",
    "\n",
    "    return VNW"
   ]
  },
  {
   "cell_type": "markdown",
   "metadata": {
    "heading_collapsed": true,
    "hidden": true
   },
   "source": [
    "## Velocity"
   ]
  },
  {
   "cell_type": "code",
   "execution_count": 30,
   "metadata": {
    "hidden": true
   },
   "outputs": [],
   "source": [
    "def vel_vortex_improved(GAM, z, z0):\n",
    "    r = np.abs(np.subtract(np.reshape(z, (z.shape[0], 1)), z0))\n",
    "    c = np.subtract(np.reshape(z, (z.shape[0], 1)), z0)\n",
    "    v = 1j * np.divide(GAM, c, out=np.zeros_like(c),\n",
    "                       where=c != 0) / (2.0 * np.pi)\n",
    "    v = v * np.where(r < g.delta, (r / g.delta) ** 2, 1.0)\n",
    "    v = np.conjugate(v)\n",
    "    return v\n",
    "\n",
    "\n",
    "def velocity(ZF, iGAMAf, GAMA, m, ZV, GAMAw, iGAMAw):\n",
    "    v1 = np.sum(vel_vortex_improved(GAMA[0:m], ZF[0:iGAMAf], ZV[0:m]), axis=1)\n",
    "    v2 = np.sum(vel_vortex_improved(\n",
    "        GAMAw[0:iGAMAw], ZF[0:iGAMAf], ZF[0:iGAMAw]), axis=1)\n",
    "    vs1 = v1.shape[0]\n",
    "    vs2 = v2.shape[0]\n",
    "\n",
    "    v1_final = np.pad(v1, (0, max(vs2 - vs1, 0)), mode=\"constant\")\n",
    "    v2_final = np.pad(v2, (0, max(vs1 - vs2, 0)), mode=\"constant\")\n",
    "\n",
    "    return ((v1_final + v2_final) * -1)[0:iGAMAf]"
   ]
  },
  {
   "cell_type": "markdown",
   "metadata": {
    "heading_collapsed": true
   },
   "source": [
    "# Input Variables\n",
    "* Wing Geometry\n",
    "    * **l_**: wing span (cm) (reduce by half to be used for 2d modeling)\n",
    "    * **c_**: chord length (cm) (calculated while specifying airfoil shape)\n",
    "    * **n**: # of data points that define the airfoil shape.\n",
    "    * **m**: # of vortex points on the airfoil\n",
    "    * **camber**: Camber (not specified yet) (0 is a straight airfoil)\n",
    "* Wing Motion Parameters\n",
    "    * **phiT_, phiB_**: stroke angles (degrees)\n",
    "    * **a_**: rotation axis offset (cm)\n",
    "    * **beta_**: stroke plane angle (degrees)\n",
    "    * **f_**: flapping frequency (1/sec)\n",
    "    * **gMax**: max rotation (degrees)\n",
    "    * **p**: rotation speed parameter (nondimentional) $p >= 4$\n",
    "    * **rtOff**: rotation timing offset (nondimentional)\n",
    "        * $\\text{rtOff}<0$: advanced, $\\text{rtOff}=0$: symmetric, $\\text{rtOff}>0$: delayed\n",
    "* Fluid Parameters\n",
    "    * **rho_**: air density, $g/cm^3$\n",
    "    * **U_, V_**: ambient velocity ($cm/sec$, assume constant)\n",
    "    * **itinc**: Time increment and # of time steps option 0 (manually sepcify), 1 (automatic)\n",
    "    * Velocity Contour Plot Parameters:\n",
    "        * **svInc**: space-fixed velocity plot increment\n",
    "        * **svMax**: space-fixed velocity plot max velocity\n",
    "        * **wvInc**: wing-fixed velocity plot increment\n",
    "        * **wvMax**: wing-fixed velocity plot max velocity\n",
    "* Time March Variables\n",
    "    * **q**: Multiplier ($0 < q <= 1$)\n",
    "    * **dt**: Change in time\n",
    "    * **nstep**: Total number of steps"
   ]
  },
  {
   "cell_type": "code",
   "execution_count": null,
   "metadata": {
    "hidden": true
   },
   "outputs": [],
   "source": [
    "import numpy as np\n",
    "np.set_printoptions(precision=4)\n",
    "from scipy.linalg import lu_factor, lu_solve\n",
    "import src as wings"
   ]
  },
  {
   "cell_type": "code",
   "execution_count": 32,
   "metadata": {
    "hidden": true
   },
   "outputs": [],
   "source": [
    "l_ = 0.5 * 5.0 # Change this number.\n",
    "n = 101\n",
    "atmp_ = 0.8\n",
    "x_ = np.linspace(-atmp_, atmp_, n, endpoint=True)\n",
    "camber = 0.0\n",
    "y_ = camber * (atmp_ ** 2 - x_ ** 2)\n",
    "c_ = x_[n - 1] - x_[0]\n",
    "m = 5\n",
    "phiT_ = 45\n",
    "phiB_ = -45\n",
    "a_ = 0\n",
    "beta_ = -30\n",
    "f_ = 30\n",
    "gMax_ = 30\n",
    "p = 5\n",
    "rtOff = 0.0\n",
    "rho_ = 0.001225\n",
    "U_ = 100.0\n",
    "V_ = 0.0\n",
    "itinc = 1\n",
    "svInc = 0.025\n",
    "svMax = 2.5\n",
    "g.svCont = np.arange(0.0, svMax + 1e-10, svInc)\n",
    "wvInc = 0.1\n",
    "wvMax = 7.0\n",
    "g.wvCont = np.arange(0.0, wvMax + 1e-10, wvInc)\n",
    "q = 1.0\n",
    "dt = 0.025\n",
    "nstep = 81"
   ]
  },
  {
   "cell_type": "code",
   "execution_count": 33,
   "metadata": {
    "hidden": true
   },
   "outputs": [],
   "source": [
    "v_, t_, d_, e, c, x, y, a, beta, gMax, U, V = in_data(l_, phiT_, phiB_, c_, x_, y_, a_, beta_, f_, gMax_, U_, V_)\n",
    "\n",
    "g.delta = 0.5 * c / (m - 1) * q\n",
    "\n",
    "if itinc == 1:\n",
    "    nperiod = 1\n",
    "    dt = min(c / (m - 1), 0.1 * (4 / p))\n",
    "    nstep = int(nperiod * np.ceil(2/dt))\n",
    "\n",
    "air = np.sqrt(U_ ** 2 + V_ ** 2)\n",
    "fk = 2 * f_ * d_ / air\n",
    "r = 0.25 * (c_ / d_) * (p / t_) * (gMax / f_)\n",
    "k = fk * r\n",
    "\n",
    "if air <= 1e-03:\n",
    "    r = 0.25 * (c_ / d_) * (p / t_) * (gMax / f_)\n",
    "\n",
    "xv, yv, xc, yc, dfc, m  = mesh_r(c, x, y, n, m)"
   ]
  },
  {
   "cell_type": "markdown",
   "metadata": {
    "heading_collapsed": true
   },
   "source": [
    "# Initialization Of Time March\n",
    "\n",
    "* Initialize the wake vortex. (**GAMAw**)\n",
    "    * GAMAw[0:2] step 1, GAMAw[2:4] step 2, ...\n",
    "* Initialize teh free vortex magnitude array. (**GAMAf**)\n",
    "    * This is the vortext to be shed or convected.\n",
    "* Initialize the total wake vortex sum (**sGAMAw**)\n",
    "* Initialize the total wake vortex number (**iGAMAw**)\n",
    "* Initialize the # of vortices to be convected or shed. (**iGAMAf**)\n",
    "* Initialize the free & wake vortex location array (before convection)(**ZF**)\n",
    "    * ZF[0:2] step 1, ZF[2:4] step 2, ZF[4:6] step 3, ...\n",
    "    * Leading edge: odd components\n",
    "    * Trailing edge: even components\n",
    "* Initialize the free & wake vortex location array (after convection)(**ZW**)\n",
    "    * ZW[0:2] step 1, ZW[2:4] step 2, ZW[4:6] step 3, ...\n",
    "    * Leading edge: odd components\n",
    "    * Trailing edge: even components\n",
    "* This is further transformed into a new body-fixed coordinate system.\n",
    "* Linear and angular impulse arrays (**impulseLb, impulseAb, impulseLw, impulseLb**)"
   ]
  },
  {
   "cell_type": "code",
   "execution_count": 34,
   "metadata": {
    "hidden": true
   },
   "outputs": [],
   "source": [
    "GAMAw = np.zeros(2 * nstep)\n",
    "GAMAf = np.zeros(2 * nstep)\n",
    "sGAMAw = 0.0\n",
    "iGAMAw = 0\n",
    "iGAMAf = 0\n",
    "ZF = np.zeros(2 * nstep, dtype=complex)\n",
    "ZW = np.zeros(2 * nstep, dtype=complex)\n",
    "impulseLb = np.zeros(nstep, dtype=complex)\n",
    "impulseLw = np.zeros(nstep, dtype=complex)\n",
    "impulseAb = np.zeros(nstep)\n",
    "impulseAw = np.zeros(nstep)\n",
    "LDOT = np.zeros(nstep)\n",
    "HDOT = np.zeros(nstep)"
   ]
  },
  {
   "cell_type": "markdown",
   "metadata": {
    "hidden": true
   },
   "source": [
    "* Setup the matrix for the nonpenetration condition\n",
    "* Use the wing-fixed coordinate system to calcuate the matrix coefficients.\n",
    "* The matrix coefficients in the global system are identical to these and remain constant throughout the time steps."
   ]
  },
  {
   "cell_type": "code",
   "execution_count": 35,
   "metadata": {
    "hidden": true
   },
   "outputs": [],
   "source": [
    "MVN = matrix_coef(xv, yv, xc, yc, dfc, m)\n",
    "MVN_lu = lu_factor(MVN)\n",
    "\n",
    "ZETA = 0\n",
    "if g.vfplot == 1:\n",
    "    if camber == 0.0:\n",
    "        ZETA = c_mesh(c_, d_)\n",
    "    else:\n",
    "        ZETA = camber_mesh(c_, d_, camber)"
   ]
  },
  {
   "cell_type": "markdown",
   "metadata": {
    "heading_collapsed": true
   },
   "source": [
    "# Time Marching\n",
    "\n",
    "* Perform the time march using the values defined above for calculation."
   ]
  },
  {
   "cell_type": "code",
   "execution_count": 36,
   "metadata": {
    "hidden": true
   },
   "outputs": [],
   "source": [
    "iterations = {\n",
    "    'ZC': [],\n",
    "    'NC': [],\n",
    "    't': [],\n",
    "    'VN': [],\n",
    "    'iGAMAw': [],\n",
    "    'ZV': [],\n",
    "    'ZW': [],\n",
    "    'GAMA': [],\n",
    "    'GAMAw': [],\n",
    "    'U': [],\n",
    "    'V': [],\n",
    "    'alp': [],\n",
    "    'l': [],\n",
    "    'h': [],\n",
    "    'dalp': [],\n",
    "    'dl': [],\n",
    "    'dh': []\n",
    "}"
   ]
  },
  {
   "cell_type": "code",
   "execution_count": 37,
   "metadata": {
    "hidden": true
   },
   "outputs": [],
   "source": [
    "for istep in range(nstep):\n",
    "    t = istep * dt\n",
    "\n",
    "    alp, l, h, dalp, dl, dh = airfoil_m(t, e, beta, gMax, p, rtOff, U, V)\n",
    "\n",
    "    LDOT[istep] = dl\n",
    "    HDOT[istep] = dh\n",
    "\n",
    "    NC, ZV, ZC, ZVt, ZCt, ZWt = wing_global(istep, t, a, alp, l, h, xv, yv, xc, yc, dfc, ZW, U, V)\n",
    "\n",
    "    VN = airfoil_v(ZC, ZCt, NC, t, dl, dh, dalp)\n",
    "    VNW = velocity_w2(m, ZC, NC, ZF, GAMAw, iGAMAw)\n",
    "\n",
    "    GAMA = VN - VNW\n",
    "    GAMA = np.append(GAMA, -sGAMAw)\n",
    "    GAMA = lu_solve(MVN_lu, GAMA)\n",
    "\n",
    "    impulseLb[istep] = -1j * np.sum(GAMA * ZVt)\n",
    "    impulseAb[istep] = 0.5 * np.sum(GAMA * np.abs(ZVt) ** 2)\n",
    "    impulseLw[istep] = -1j * np.sum(GAMAw[0:iGAMAw] * ZWt[0:iGAMAw])\n",
    "    impulseAw[istep] = 0.5 * np.sum(GAMAw[0:iGAMAw] * np.abs(ZWt[0:iGAMAw]) ** 2)\n",
    "\n",
    "    iGAMAf = 2 * (istep + 1)\n",
    "\n",
    "    ZF[iGAMAf - 2] = ZV[0]\n",
    "    ZF[iGAMAf - 1] = ZV[m - 1]\n",
    "\n",
    "    VELF = velocity(ZF, iGAMAf, GAMA, m, ZV, GAMAw, iGAMAw)\n",
    "\n",
    "    ZW[0:iGAMAf] = ZF[0:iGAMAf] + VELF * dt\n",
    "\n",
    "    iGAMAw = iGAMAw + 2\n",
    "    GAMAw[iGAMAf - 2] = GAMA[0]\n",
    "    GAMAw[iGAMAf - 1] = GAMA[m - 1]\n",
    "    sGAMAw = sGAMAw + GAMA[0] + GAMA[m - 1]\n",
    "\n",
    "    ZF = ZW"
   ]
  }
 ],
 "metadata": {
  "kernelspec": {
   "display_name": "Python 3 (ipykernel)",
   "language": "python",
   "name": "python3"
  },
  "language_info": {
   "codemirror_mode": {
    "name": "ipython",
    "version": 3
   },
   "file_extension": ".py",
   "mimetype": "text/x-python",
   "name": "python",
   "nbconvert_exporter": "python",
   "pygments_lexer": "ipython3",
   "version": "3.10.5"
  },
  "toc": {
   "base_numbering": 1,
   "nav_menu": {},
   "number_sections": true,
   "sideBar": true,
   "skip_h1_title": false,
   "title_cell": "Table of Contents",
   "title_sidebar": "Contents",
   "toc_cell": false,
   "toc_position": {},
   "toc_section_display": true,
   "toc_window_display": false
  },
  "vscode": {
   "interpreter": {
    "hash": "0ef96d7bbabcf0684176d32bac936469525709f186f4caa10b70d50fc533b63e"
   }
  }
 },
 "nbformat": 4,
 "nbformat_minor": 2
}
