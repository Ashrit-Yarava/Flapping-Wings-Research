{
 "cells": [
  {
   "cell_type": "code",
   "execution_count": 1,
   "metadata": {},
   "outputs": [],
   "source": [
    "import os\n",
    "import logging\n",
    "import src.globals as g\n",
    "\n",
    "# Initialize logging and create missing directories\n",
    "log_file = \"output.txt\"\n",
    "fig = \"fig/\"\n",
    "\n",
    "if not os.path.exists(g.fig):\n",
    "    os.makedirs(g.fig)\n",
    "\n",
    "if not os.path.exists(f\"{g.fig}wake/\"):\n",
    "    os.makedirs(f\"{g.fig}wake/\")\n",
    "\n",
    "if not os.path.exists(f\"{g.fig}velocity/\"):\n",
    "    os.makedirs(f\"{g.fig}velocity/\")\n",
    "\n",
    "logging.basicConfig(filename=log_file, filemode=\"w\",\n",
    "                    force=True, level=logging.INFO, format=\"%(message)s\")"
   ]
  },
  {
   "cell_type": "markdown",
   "metadata": {},
   "source": [
    "# Input Variables\n",
    "* Wing Geometry\n",
    "    * **l_**: wing span (cm) (reduce by half to be used for 2d modeling)\n",
    "    * **c_**: chord length (cm) (calculated while specifying airfoil shape)\n",
    "    * **n**: # of data points that define the airfoil shape.\n",
    "    * **m**: # of vortex points on the airfoil\n",
    "    * **camber**: Camber (not specified yet) (0 is a straight airfoil)\n",
    "* Wing Motion Parameters\n",
    "    * **phiT_, phiB_**: stroke angles (degrees)\n",
    "    * **a_**: rotation axis offset (cm)\n",
    "    * **beta_**: stroke plane angle (degrees)\n",
    "    * **f_**: flapping frequency (1/sec)\n",
    "    * **gMax**: max rotation (degrees)\n",
    "    * **p**: rotation speed parameter (nondimentional) $p >= 4$\n",
    "    * **rtOff**: rotation timing offset (nondimentional)\n",
    "        * $\\text{rtOff}<0$: advanced, $\\text{rtOff}=0$: symmetric, $\\text{rtOff}>0$: delayed\n",
    "* Fluid Parameters\n",
    "    * **rho_**: air density, $g/cm^3$\n",
    "    * **U_, V_**: ambient velocity ($cm/sec$, assume constant)\n",
    "    * **itinc**: Time increment and # of time steps option 0 (manually sepcify), 1 (automatic)\n",
    "    * Velocity Contour Plot Parameters:\n",
    "        * **svInc**: space-fixed velocity plot increment\n",
    "        * **svMax**: space-fixed velocity plot max velocity\n",
    "        * **wvInc**: wing-fixed velocity plot increment\n",
    "        * **wvMax**: wing-fixed velocity plot max velocity\n",
    "* Time March Variables\n",
    "    * **q**: Multiplier ($0 < q <= 1$)\n",
    "    * **dt**: Change in time\n",
    "    * **nstep**: Total number of steps"
   ]
  },
  {
   "cell_type": "code",
   "execution_count": 2,
   "metadata": {},
   "outputs": [],
   "source": [
    "import numpy as np\n",
    "np.set_printoptions(precision=4)\n",
    "from scipy.linalg import lu_factor, lu_solve\n",
    "import src as wings"
   ]
  },
  {
   "cell_type": "code",
   "execution_count": 3,
   "metadata": {},
   "outputs": [],
   "source": [
    "l_ = 0.5 * 5.0 # Change this number.\n",
    "n = 101\n",
    "atmp_ = 0.8\n",
    "x_ = np.linspace(-atmp_, atmp_, n, endpoint=True)\n",
    "camber = 0.0\n",
    "y_ = camber * (atmp_ ** 2 - x_ ** 2)\n",
    "c_ = x_[n - 1] - x_[0]\n",
    "m = 5\n",
    "phiT_ = 45\n",
    "phiB_ = -45\n",
    "a_ = 0\n",
    "beta_ = -30\n",
    "f_ = 30\n",
    "gMax_ = 30\n",
    "p = 5\n",
    "rtOff = 0.0\n",
    "rho_ = 0.001225\n",
    "U_ = 100.0\n",
    "V_ = 0.0\n",
    "itinc = 1\n",
    "svInc = 0.025\n",
    "svMax = 2.5\n",
    "g.svCont = np.arange(0.0, svMax + 1e-10, svInc)\n",
    "wvInc = 0.1\n",
    "wvMax = 7.0\n",
    "g.wvCont = np.arange(0.0, wvMax + 1e-10, wvInc)\n",
    "q = 1.0\n",
    "dt = 0.025\n",
    "nstep = 81"
   ]
  },
  {
   "cell_type": "code",
   "execution_count": 4,
   "metadata": {},
   "outputs": [],
   "source": [
    "v_, t_, d_, e, c, x, y, a, beta, gMax, U, V = wings.in_data(l_, phiT_, phiB_, c_, x_, y_, a_, beta_, f_, gMax_, U_, V_)\n",
    "\n",
    "g.delta = 0.5 * c / (m - 1) * q\n",
    "\n",
    "if itinc == 1:\n",
    "    nperiod = 1\n",
    "    dt = min(c / (m - 1), 0.1 * (4 / p))\n",
    "    nstep = int(nperiod * np.ceil(2/dt))\n",
    "\n",
    "air = np.sqrt(U_ ** 2 + V_ ** 2)\n",
    "fk = 2 * f_ * d_ / air\n",
    "r = 0.25 * (c_ / d_) * (p / t_) * (gMax / f_)\n",
    "k = fk * r\n",
    "\n",
    "if air <= 1e-03:\n",
    "    r = 0.25 * (c_ / d_) * (p / t_) * (gMax / f_)\n",
    "\n",
    "xv, yv, xc, yc, dfc, m  = wings.mesh_r(c, x, y, n, m)"
   ]
  },
  {
   "cell_type": "markdown",
   "metadata": {},
   "source": [
    "# Initialization Of Time March\n",
    "\n",
    "* Initialize the wake vortex. (**GAMAw**)\n",
    "    * GAMAw[0:2] step 1, GAMAw[2:4] step 2, ...\n",
    "* Initialize teh free vortex magnitude array. (**GAMAf**)\n",
    "    * This is the vortext to be shed or convected.\n",
    "* Initialize the total wake vortex sum (**sGAMAw**)\n",
    "* Initialize the total wake vortex number (**iGAMAw**)\n",
    "* Initialize the # of vortices to be convected or shed. (**iGAMAf**)\n",
    "* Initialize the free & wake vortex location array (before convection)(**ZF**)\n",
    "    * ZF[0:2] step 1, ZF[2:4] step 2, ZF[4:6] step 3, ...\n",
    "    * Leading edge: odd components\n",
    "    * Trailing edge: even components\n",
    "* Initialize the free & wake vortex location array (after convection)(**ZW**)\n",
    "    * ZW[0:2] step 1, ZW[2:4] step 2, ZW[4:6] step 3, ...\n",
    "    * Leading edge: odd components\n",
    "    * Trailing edge: even components\n",
    "* This is further transformed into a new body-fixed coordinate system.\n",
    "* Linear and angular impulse arrays (**impulseLb, impulseAb, impulseLw, impulseLb**)"
   ]
  },
  {
   "cell_type": "code",
   "execution_count": 5,
   "metadata": {},
   "outputs": [],
   "source": [
    "GAMAw = np.zeros(2 * nstep)\n",
    "GAMAf = np.zeros(2 * nstep)\n",
    "sGAMAw = 0.0\n",
    "iGAMAw = 0\n",
    "iGAMAf = 0\n",
    "ZF = np.zeros(2 * nstep, dtype=complex)\n",
    "ZW = np.zeros(2 * nstep, dtype=complex)\n",
    "impulseLb = np.zeros(nstep, dtype=complex)\n",
    "impulseLw = np.zeros(nstep, dtype=complex)\n",
    "impulseAb = np.zeros(nstep)\n",
    "impulseAw = np.zeros(nstep)\n",
    "LDOT = np.zeros(nstep)\n",
    "HDOT = np.zeros(nstep)"
   ]
  },
  {
   "cell_type": "markdown",
   "metadata": {},
   "source": [
    "* Setup the matrix for the nonpenetration condition\n",
    "* Use the wing-fixed coordinate system to calcuate the matrix coefficients.\n",
    "* The matrix coefficients in the global system are identical to these and remain constant throughout the time steps."
   ]
  },
  {
   "cell_type": "code",
   "execution_count": 6,
   "metadata": {},
   "outputs": [],
   "source": [
    "MVN = wings.matrix_coef(xv, yv, xc, yc, dfc, m)\n",
    "MVN_lu = lu_factor(MVN)\n",
    "\n",
    "ZETA = 0\n",
    "if g.vfplot == 1:\n",
    "    if camber == 0.0:\n",
    "        ZETA = wings.c_mesh(c_, d_)\n",
    "    else:\n",
    "        ZETA = wings.camber_mesh(c_, d_, camber)"
   ]
  },
  {
   "cell_type": "markdown",
   "metadata": {},
   "source": [
    "# Time Marching\n",
    "\n",
    "* Perform the time march using the values defined above for calculation."
   ]
  },
  {
   "cell_type": "code",
   "execution_count": null,
   "metadata": {},
   "outputs": [],
   "source": [
    "iterations = {\n",
    "    'ZC': [],\n",
    "    'NC': [],\n",
    "    't': [],\n",
    "    'VN': [],\n",
    "    'iGAMAw': [],\n",
    "    'ZV': [],\n",
    "    'ZW': [],\n",
    "    'GAMA': [],\n",
    "    'GAMAw': [],\n",
    "    'U': [],\n",
    "    'V': [],\n",
    "    'alp': [],\n",
    "    'l': [],\n",
    "    'h': [],\n",
    "    'dalp': [],\n",
    "    'dl': [],\n",
    "    'dh': []\n",
    "}"
   ]
  },
  {
   "cell_type": "code",
   "execution_count": 7,
   "metadata": {},
   "outputs": [],
   "source": [
    "for istep in range(nstep):\n",
    "    t = istep * dt\n",
    "    alp, l, h, dalp, dl, dh = wings.airfoil_m(t, e, beta, gMax, p, rtOff, U, V)\n",
    "\n",
    "    LDOT[istep] = dl\n",
    "    HDOT[istep] = dh\n",
    "\n",
    "    NC, ZV, ZC, ZVt, ZCt, ZWt = wings.wing_global(istep, t, a, alp, l, h, xv, yv, xc, yc, dfc, ZW, U, V)\n",
    "\n",
    "    VN = wings.airfoil_v(ZC, ZCt, NC, t, dl, dh, dalp)\n",
    "    VNW = wings.velocity_w2(m, ZC, NC, ZF, GAMAw, iGAMAw)\n",
    "    \n",
    "    GAMA = VN - VNW\n",
    "    GAMA = np.append(GAMA, -sGAMAw)\n",
    "    GAMA = lu_solve(MVN_lu, GAMA)\n",
    "\n",
    "    impulseLb[istep] = -1j * np.sum(GAMA * ZVt)\n",
    "    impulseAb[istep] = 0.5 * np.sum(GAMA * np.abs(ZVt) ** 2)\n",
    "    impulseLw[istep] = -1j * np.sum(GAMAw[0:iGAMAw] * ZWt[0:iGAMAw])\n",
    "    impulseAw[istep] = 0.5 * np.sum(GAMAw[0:iGAMAw] * np.abs(ZWt[0:iGAMAw]) ** 2)\n",
    "\n",
    "    iGAMAf = 2 * (istep + 1)\n",
    "\n",
    "    ZF[iGAMAf - 2] = ZV[0]\n",
    "    ZF[iGAMAf - 1] = ZV[m - 1]\n",
    "\n",
    "    VELF = wings.velocity_improved(ZF, iGAMAf, GAMA, m, ZV, GAMAw, iGAMAw)\n",
    "    \n",
    "    ZW[0:iGAMAf] = ZF[0:iGAMAf] + VELF * dt\n",
    "\n",
    "    iGAMAw = iGAMAw + 2\n",
    "    GAMAw[iGAMAf - 2] = GAMA[0]\n",
    "    GAMAw[iGAMAf - 1] = GAMA[m - 1]\n",
    "    sGAMAw = sGAMAw + GAMA[0] + GAMA[m - 1]\n",
    "\n",
    "    ZF = ZW"
   ]
  }
 ],
 "metadata": {
  "kernelspec": {
   "display_name": "Python 3 (ipykernel)",
   "language": "python",
   "name": "python3"
  },
  "language_info": {
   "codemirror_mode": {
    "name": "ipython",
    "version": 3
   },
   "file_extension": ".py",
   "mimetype": "text/x-python",
   "name": "python",
   "nbconvert_exporter": "python",
   "pygments_lexer": "ipython3",
   "version": "3.10.5"
  },
  "vscode": {
   "interpreter": {
    "hash": "0ef96d7bbabcf0684176d32bac936469525709f186f4caa10b70d50fc533b63e"
   }
  }
 },
 "nbformat": 4,
 "nbformat_minor": 2
}
