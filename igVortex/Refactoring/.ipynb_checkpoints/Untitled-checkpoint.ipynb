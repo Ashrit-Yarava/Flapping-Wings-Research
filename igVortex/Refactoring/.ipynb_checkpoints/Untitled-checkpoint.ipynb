{
 "cells": [
  {
   "cell_type": "code",
   "execution_count": 18,
   "id": "7671364a",
   "metadata": {},
   "outputs": [],
   "source": [
    "import numpy as np\n",
    "import jax.numpy as jnp"
   ]
  },
  {
   "cell_type": "code",
   "execution_count": 19,
   "id": "6e226c94",
   "metadata": {},
   "outputs": [
    {
     "name": "stdout",
     "output_type": "stream",
     "text": [
      "13.9 ms ± 1.09 ms per loop (mean ± std. dev. of 7 runs, 100 loops each)\n"
     ]
    }
   ],
   "source": [
    "A = np.random.rand(1000, 1000)\n",
    "B = np.random.rand(1000,)\n",
    "\n",
    "%timeit np.linalg.solve(A, B)"
   ]
  },
  {
   "cell_type": "code",
   "execution_count": 20,
   "id": "7cd28c28",
   "metadata": {
    "scrolled": true
   },
   "outputs": [
    {
     "name": "stdout",
     "output_type": "stream",
     "text": [
      "53.1 ms ± 3.7 ms per loop (mean ± std. dev. of 7 runs, 10 loops each)\n"
     ]
    }
   ],
   "source": [
    "A = jnp.array(A)\n",
    "B = jnp.array(B)\n",
    "\n",
    "jit_solve = jax.jit(jnp.linalg.solve)\n",
    "\n",
    "%timeit jit_solve(A, B)"
   ]
  },
  {
   "cell_type": "code",
   "execution_count": 12,
   "id": "1ebb06c1",
   "metadata": {},
   "outputs": [
    {
     "name": "stdout",
     "output_type": "stream",
     "text": [
      "22 ms ± 826 µs per loop (mean ± std. dev. of 7 runs, 10 loops each)\n"
     ]
    }
   ],
   "source": [
    "A = np.random.rand(1000, 1000)\n",
    "B = np.random.rand(1000, 1000)\n",
    "\n",
    "%timeit np.matmul(A, B)"
   ]
  },
  {
   "cell_type": "code",
   "execution_count": 13,
   "id": "755a4410",
   "metadata": {},
   "outputs": [
    {
     "name": "stdout",
     "output_type": "stream",
     "text": [
      "9.43 ms ± 395 µs per loop (mean ± std. dev. of 7 runs, 100 loops each)\n"
     ]
    }
   ],
   "source": [
    "A = jnp.array(A)\n",
    "B = jnp.array(B)\n",
    "\n",
    "jit_matmul = jax.jit(jnp.matmul)\n",
    "\n",
    "%timeit jit_matmul(A, B)"
   ]
  }
 ],
 "metadata": {
  "kernelspec": {
   "display_name": "Python 3 (ipykernel)",
   "language": "python",
   "name": "python3"
  },
  "language_info": {
   "codemirror_mode": {
    "name": "ipython",
    "version": 3
   },
   "file_extension": ".py",
   "mimetype": "text/x-python",
   "name": "python",
   "nbconvert_exporter": "python",
   "pygments_lexer": "ipython3",
   "version": "3.9.13"
  }
 },
 "nbformat": 4,
 "nbformat_minor": 5
}
